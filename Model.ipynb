{
 "cells": [
  {
   "cell_type": "markdown",
   "id": "4c65dfd2",
   "metadata": {},
   "source": [
    "## Importing the required libraries"
   ]
  },
  {
   "cell_type": "code",
   "execution_count": 1,
   "id": "8c378d4c",
   "metadata": {},
   "outputs": [],
   "source": [
    "import numpy as np\n",
    "import pandas as pd\n",
    "from sklearn import metrics"
   ]
  },
  {
   "cell_type": "markdown",
   "id": "a717a3d1",
   "metadata": {},
   "source": [
    "## Uploading the dataset"
   ]
  },
  {
   "cell_type": "code",
   "execution_count": 2,
   "id": "62f03419",
   "metadata": {},
   "outputs": [],
   "source": [
    "dataset = pd.read_csv('Credit.csv')"
   ]
  },
  {
   "cell_type": "code",
   "execution_count": 3,
   "id": "3e6ceb3b",
   "metadata": {},
   "outputs": [
    {
     "data": {
      "text/plain": [
       "Index(['ID', 'LIMIT_BAL', 'SEX', 'EDUCATION', 'MARRIAGE', 'AGE', 'PAY_1',\n",
       "       'PAY_2', 'PAY_3', 'PAY_4', 'PAY_5', 'PAY_6', 'BILL_AMT1', 'BILL_AMT2',\n",
       "       'BILL_AMT3', 'BILL_AMT4', 'BILL_AMT5', 'BILL_AMT6', 'PAY_AMT1',\n",
       "       'PAY_AMT2', 'PAY_AMT3', 'PAY_AMT4', 'PAY_AMT5', 'PAY_AMT6',\n",
       "       'DEFAULT_PAYMENT_NEXT_MONTH'],\n",
       "      dtype='object')"
      ]
     },
     "execution_count": 3,
     "metadata": {},
     "output_type": "execute_result"
    }
   ],
   "source": [
    "dataset.columns"
   ]
  },
  {
   "cell_type": "code",
   "execution_count": 4,
   "id": "d75eced5",
   "metadata": {},
   "outputs": [
    {
     "data": {
      "text/html": [
       "<div>\n",
       "<style scoped>\n",
       "    .dataframe tbody tr th:only-of-type {\n",
       "        vertical-align: middle;\n",
       "    }\n",
       "\n",
       "    .dataframe tbody tr th {\n",
       "        vertical-align: top;\n",
       "    }\n",
       "\n",
       "    .dataframe thead th {\n",
       "        text-align: right;\n",
       "    }\n",
       "</style>\n",
       "<table border=\"1\" class=\"dataframe\">\n",
       "  <thead>\n",
       "    <tr style=\"text-align: right;\">\n",
       "      <th></th>\n",
       "      <th>ID</th>\n",
       "      <th>LIMIT_BAL</th>\n",
       "      <th>SEX</th>\n",
       "      <th>EDUCATION</th>\n",
       "      <th>MARRIAGE</th>\n",
       "      <th>AGE</th>\n",
       "      <th>PAY_1</th>\n",
       "      <th>PAY_2</th>\n",
       "      <th>PAY_3</th>\n",
       "      <th>PAY_4</th>\n",
       "      <th>...</th>\n",
       "      <th>BILL_AMT4</th>\n",
       "      <th>BILL_AMT5</th>\n",
       "      <th>BILL_AMT6</th>\n",
       "      <th>PAY_AMT1</th>\n",
       "      <th>PAY_AMT2</th>\n",
       "      <th>PAY_AMT3</th>\n",
       "      <th>PAY_AMT4</th>\n",
       "      <th>PAY_AMT5</th>\n",
       "      <th>PAY_AMT6</th>\n",
       "      <th>DEFAULT_PAYMENT_NEXT_MONTH</th>\n",
       "    </tr>\n",
       "  </thead>\n",
       "  <tbody>\n",
       "    <tr>\n",
       "      <th>0</th>\n",
       "      <td>1</td>\n",
       "      <td>20000</td>\n",
       "      <td>2</td>\n",
       "      <td>2</td>\n",
       "      <td>1</td>\n",
       "      <td>24</td>\n",
       "      <td>2</td>\n",
       "      <td>2</td>\n",
       "      <td>-1</td>\n",
       "      <td>-1</td>\n",
       "      <td>...</td>\n",
       "      <td>0</td>\n",
       "      <td>0</td>\n",
       "      <td>0</td>\n",
       "      <td>0</td>\n",
       "      <td>689</td>\n",
       "      <td>0</td>\n",
       "      <td>0</td>\n",
       "      <td>0</td>\n",
       "      <td>0</td>\n",
       "      <td>1</td>\n",
       "    </tr>\n",
       "    <tr>\n",
       "      <th>1</th>\n",
       "      <td>2</td>\n",
       "      <td>120000</td>\n",
       "      <td>2</td>\n",
       "      <td>2</td>\n",
       "      <td>2</td>\n",
       "      <td>26</td>\n",
       "      <td>-1</td>\n",
       "      <td>2</td>\n",
       "      <td>0</td>\n",
       "      <td>0</td>\n",
       "      <td>...</td>\n",
       "      <td>3272</td>\n",
       "      <td>3455</td>\n",
       "      <td>3261</td>\n",
       "      <td>0</td>\n",
       "      <td>1000</td>\n",
       "      <td>1000</td>\n",
       "      <td>1000</td>\n",
       "      <td>0</td>\n",
       "      <td>2000</td>\n",
       "      <td>1</td>\n",
       "    </tr>\n",
       "    <tr>\n",
       "      <th>2</th>\n",
       "      <td>3</td>\n",
       "      <td>90000</td>\n",
       "      <td>2</td>\n",
       "      <td>2</td>\n",
       "      <td>2</td>\n",
       "      <td>34</td>\n",
       "      <td>0</td>\n",
       "      <td>0</td>\n",
       "      <td>0</td>\n",
       "      <td>0</td>\n",
       "      <td>...</td>\n",
       "      <td>14331</td>\n",
       "      <td>14948</td>\n",
       "      <td>15549</td>\n",
       "      <td>1518</td>\n",
       "      <td>1500</td>\n",
       "      <td>1000</td>\n",
       "      <td>1000</td>\n",
       "      <td>1000</td>\n",
       "      <td>5000</td>\n",
       "      <td>0</td>\n",
       "    </tr>\n",
       "    <tr>\n",
       "      <th>3</th>\n",
       "      <td>4</td>\n",
       "      <td>50000</td>\n",
       "      <td>2</td>\n",
       "      <td>2</td>\n",
       "      <td>1</td>\n",
       "      <td>37</td>\n",
       "      <td>0</td>\n",
       "      <td>0</td>\n",
       "      <td>0</td>\n",
       "      <td>0</td>\n",
       "      <td>...</td>\n",
       "      <td>28314</td>\n",
       "      <td>28959</td>\n",
       "      <td>29547</td>\n",
       "      <td>2000</td>\n",
       "      <td>2019</td>\n",
       "      <td>1200</td>\n",
       "      <td>1100</td>\n",
       "      <td>1069</td>\n",
       "      <td>1000</td>\n",
       "      <td>0</td>\n",
       "    </tr>\n",
       "    <tr>\n",
       "      <th>4</th>\n",
       "      <td>5</td>\n",
       "      <td>50000</td>\n",
       "      <td>1</td>\n",
       "      <td>2</td>\n",
       "      <td>1</td>\n",
       "      <td>57</td>\n",
       "      <td>-1</td>\n",
       "      <td>0</td>\n",
       "      <td>-1</td>\n",
       "      <td>0</td>\n",
       "      <td>...</td>\n",
       "      <td>20940</td>\n",
       "      <td>19146</td>\n",
       "      <td>19131</td>\n",
       "      <td>2000</td>\n",
       "      <td>36681</td>\n",
       "      <td>10000</td>\n",
       "      <td>9000</td>\n",
       "      <td>689</td>\n",
       "      <td>679</td>\n",
       "      <td>0</td>\n",
       "    </tr>\n",
       "  </tbody>\n",
       "</table>\n",
       "<p>5 rows × 25 columns</p>\n",
       "</div>"
      ],
      "text/plain": [
       "   ID  LIMIT_BAL  SEX  EDUCATION  MARRIAGE  AGE  PAY_1  PAY_2  PAY_3  PAY_4  \\\n",
       "0   1      20000    2          2         1   24      2      2     -1     -1   \n",
       "1   2     120000    2          2         2   26     -1      2      0      0   \n",
       "2   3      90000    2          2         2   34      0      0      0      0   \n",
       "3   4      50000    2          2         1   37      0      0      0      0   \n",
       "4   5      50000    1          2         1   57     -1      0     -1      0   \n",
       "\n",
       "   ...  BILL_AMT4  BILL_AMT5  BILL_AMT6  PAY_AMT1  PAY_AMT2  PAY_AMT3  \\\n",
       "0  ...          0          0          0         0       689         0   \n",
       "1  ...       3272       3455       3261         0      1000      1000   \n",
       "2  ...      14331      14948      15549      1518      1500      1000   \n",
       "3  ...      28314      28959      29547      2000      2019      1200   \n",
       "4  ...      20940      19146      19131      2000     36681     10000   \n",
       "\n",
       "   PAY_AMT4  PAY_AMT5  PAY_AMT6  DEFAULT_PAYMENT_NEXT_MONTH  \n",
       "0         0         0         0                           1  \n",
       "1      1000         0      2000                           1  \n",
       "2      1000      1000      5000                           0  \n",
       "3      1100      1069      1000                           0  \n",
       "4      9000       689       679                           0  \n",
       "\n",
       "[5 rows x 25 columns]"
      ]
     },
     "execution_count": 4,
     "metadata": {},
     "output_type": "execute_result"
    }
   ],
   "source": [
    "dataset.head()"
   ]
  },
  {
   "cell_type": "code",
   "execution_count": 5,
   "id": "249ee2c2",
   "metadata": {},
   "outputs": [],
   "source": [
    "x = dataset.iloc[:,:-1].values\n",
    "y = dataset.iloc[:,24].values"
   ]
  },
  {
   "cell_type": "code",
   "execution_count": 6,
   "id": "6972ba64",
   "metadata": {},
   "outputs": [
    {
     "data": {
      "text/plain": [
       "(array([[     1,  20000,      2, ...,      0,      0,      0],\n",
       "        [     2, 120000,      2, ...,   1000,      0,   2000],\n",
       "        [     3,  90000,      2, ...,   1000,   1000,   5000],\n",
       "        ...,\n",
       "        [ 29998,  30000,      1, ...,   4200,   2000,   3100],\n",
       "        [ 29999,  80000,      1, ...,   1926,  52964,   1804],\n",
       "        [ 30000,  50000,      1, ...,   1000,   1000,   1000]], dtype=int64),\n",
       " array([1, 1, 0, ..., 1, 1, 1], dtype=int64))"
      ]
     },
     "execution_count": 6,
     "metadata": {},
     "output_type": "execute_result"
    }
   ],
   "source": [
    "x, y"
   ]
  },
  {
   "cell_type": "markdown",
   "id": "b23bd6c8",
   "metadata": {},
   "source": [
    "## Splitting the dataset into the Training set and Test set"
   ]
  },
  {
   "cell_type": "code",
   "execution_count": 7,
   "id": "3286bc37",
   "metadata": {},
   "outputs": [],
   "source": [
    "from sklearn.model_selection import train_test_split\n",
    "x_train, x_test, y_train, y_test = train_test_split(x, y, test_size = 0.25, random_state = 82)"
   ]
  },
  {
   "cell_type": "code",
   "execution_count": 8,
   "id": "8c0c92f6",
   "metadata": {},
   "outputs": [
    {
     "data": {
      "text/plain": [
       "(array([[ 25548, 150000,      2, ...,    250,  12500,  12500],\n",
       "        [ 14173, 200000,      1, ...,   3500,   4000,   3000],\n",
       "        [ 19487, 180000,      2, ...,   5000,   5000,   5000],\n",
       "        ...,\n",
       "        [  8324,  20000,      1, ...,      3,   1800,      0],\n",
       "        [  4547, 220000,      2, ...,      0,   6118,   6097],\n",
       "        [ 12420, 130000,      2, ...,   4500,   4500,   4500]], dtype=int64),\n",
       " array([[ 29310, 140000,      1, ...,   4800,   5100,   5000],\n",
       "        [ 12577,  50000,      2, ...,    800,   1000,   1000],\n",
       "        [  8491,  10000,      1, ...,    126,      0,      0],\n",
       "        ...,\n",
       "        [ 20966, 250000,      1, ...,   5000,   4000,   5000],\n",
       "        [ 18444, 100000,      2, ...,   3300,  11000,      0],\n",
       "        [ 18468,  30000,      2, ...,   1011,   2450,      0]], dtype=int64),\n",
       " array([0, 0, 0, ..., 1, 1, 0], dtype=int64),\n",
       " array([1, 1, 0, ..., 0, 1, 0], dtype=int64))"
      ]
     },
     "execution_count": 8,
     "metadata": {},
     "output_type": "execute_result"
    }
   ],
   "source": [
    "x_train, x_test, y_train, y_test"
   ]
  },
  {
   "cell_type": "markdown",
   "id": "230510df",
   "metadata": {},
   "source": [
    "## Feature scaling to bring the variables in a single scale"
   ]
  },
  {
   "cell_type": "code",
   "execution_count": 9,
   "id": "4eb81845",
   "metadata": {},
   "outputs": [],
   "source": [
    "from sklearn.preprocessing import StandardScaler\n",
    "scaler = StandardScaler()\n",
    "x_train = scaler.fit_transform(x_train)\n",
    "x_test = scaler.transform(x_test)"
   ]
  },
  {
   "cell_type": "code",
   "execution_count": 10,
   "id": "41a7c186",
   "metadata": {},
   "outputs": [
    {
     "data": {
      "text/plain": [
       "(array([[ 1.22272292, -0.13267193,  0.81279712, ..., -0.28715532,\n",
       "          0.51841517,  0.4090419 ],\n",
       "        [-0.09293356,  0.25276127, -1.23031932, ..., -0.08452383,\n",
       "         -0.04973751, -0.12319057],\n",
       "        [ 0.52169488,  0.09858799,  0.81279712, ...,  0.00899839,\n",
       "          0.01710399, -0.01114163],\n",
       "        ...,\n",
       "        [-0.76944124, -1.13479824, -1.23031932, ..., -0.30255532,\n",
       "         -0.19678879, -0.29126398],\n",
       "        [-1.20629702,  0.40693454,  0.81279712, ..., -0.30274236,\n",
       "          0.09183277,  0.05031721],\n",
       "        [-0.29568924, -0.28684521,  0.81279712, ..., -0.02217568,\n",
       "         -0.01631676, -0.03915387]]),\n",
       " array([[ 1.65784377, -0.20975857, -1.23031932, ..., -0.00347124,\n",
       "          0.02378814, -0.01114163],\n",
       "        [-0.27753029, -0.90353832,  0.81279712, ..., -0.25286384,\n",
       "         -0.25026198, -0.23523951],\n",
       "        [-0.75012566, -1.21188488, -1.23031932, ..., -0.29488649,\n",
       "         -0.31710347, -0.29126398],\n",
       "        ...,\n",
       "        [ 0.69275914,  0.63819446, -1.23031932, ...,  0.00899839,\n",
       "         -0.04973751, -0.01114163],\n",
       "        [ 0.4010593 , -0.51810513,  0.81279712, ..., -0.09699346,\n",
       "          0.41815293, -0.29126398],\n",
       "        [ 0.40383519, -1.0577116 ,  0.81279712, ..., -0.23970838,\n",
       "         -0.15334182, -0.29126398]]))"
      ]
     },
     "execution_count": 10,
     "metadata": {},
     "output_type": "execute_result"
    }
   ],
   "source": [
    "x_train, x_test"
   ]
  },
  {
   "cell_type": "markdown",
   "id": "bc6c7ea1",
   "metadata": {},
   "source": [
    "## Implementation of Machine Learning Algorithm\n",
    "## 1. Applying Logistic Regression (LogR) Algorithm"
   ]
  },
  {
   "cell_type": "markdown",
   "id": "7bfbe1dc",
   "metadata": {},
   "source": [
    "### - Setting the model and fitting"
   ]
  },
  {
   "cell_type": "code",
   "execution_count": 11,
   "id": "84f7f1d2",
   "metadata": {},
   "outputs": [
    {
     "data": {
      "text/html": [
       "<style>#sk-container-id-1 {color: black;background-color: white;}#sk-container-id-1 pre{padding: 0;}#sk-container-id-1 div.sk-toggleable {background-color: white;}#sk-container-id-1 label.sk-toggleable__label {cursor: pointer;display: block;width: 100%;margin-bottom: 0;padding: 0.3em;box-sizing: border-box;text-align: center;}#sk-container-id-1 label.sk-toggleable__label-arrow:before {content: \"▸\";float: left;margin-right: 0.25em;color: #696969;}#sk-container-id-1 label.sk-toggleable__label-arrow:hover:before {color: black;}#sk-container-id-1 div.sk-estimator:hover label.sk-toggleable__label-arrow:before {color: black;}#sk-container-id-1 div.sk-toggleable__content {max-height: 0;max-width: 0;overflow: hidden;text-align: left;background-color: #f0f8ff;}#sk-container-id-1 div.sk-toggleable__content pre {margin: 0.2em;color: black;border-radius: 0.25em;background-color: #f0f8ff;}#sk-container-id-1 input.sk-toggleable__control:checked~div.sk-toggleable__content {max-height: 200px;max-width: 100%;overflow: auto;}#sk-container-id-1 input.sk-toggleable__control:checked~label.sk-toggleable__label-arrow:before {content: \"▾\";}#sk-container-id-1 div.sk-estimator input.sk-toggleable__control:checked~label.sk-toggleable__label {background-color: #d4ebff;}#sk-container-id-1 div.sk-label input.sk-toggleable__control:checked~label.sk-toggleable__label {background-color: #d4ebff;}#sk-container-id-1 input.sk-hidden--visually {border: 0;clip: rect(1px 1px 1px 1px);clip: rect(1px, 1px, 1px, 1px);height: 1px;margin: -1px;overflow: hidden;padding: 0;position: absolute;width: 1px;}#sk-container-id-1 div.sk-estimator {font-family: monospace;background-color: #f0f8ff;border: 1px dotted black;border-radius: 0.25em;box-sizing: border-box;margin-bottom: 0.5em;}#sk-container-id-1 div.sk-estimator:hover {background-color: #d4ebff;}#sk-container-id-1 div.sk-parallel-item::after {content: \"\";width: 100%;border-bottom: 1px solid gray;flex-grow: 1;}#sk-container-id-1 div.sk-label:hover label.sk-toggleable__label {background-color: #d4ebff;}#sk-container-id-1 div.sk-serial::before {content: \"\";position: absolute;border-left: 1px solid gray;box-sizing: border-box;top: 0;bottom: 0;left: 50%;z-index: 0;}#sk-container-id-1 div.sk-serial {display: flex;flex-direction: column;align-items: center;background-color: white;padding-right: 0.2em;padding-left: 0.2em;position: relative;}#sk-container-id-1 div.sk-item {position: relative;z-index: 1;}#sk-container-id-1 div.sk-parallel {display: flex;align-items: stretch;justify-content: center;background-color: white;position: relative;}#sk-container-id-1 div.sk-item::before, #sk-container-id-1 div.sk-parallel-item::before {content: \"\";position: absolute;border-left: 1px solid gray;box-sizing: border-box;top: 0;bottom: 0;left: 50%;z-index: -1;}#sk-container-id-1 div.sk-parallel-item {display: flex;flex-direction: column;z-index: 1;position: relative;background-color: white;}#sk-container-id-1 div.sk-parallel-item:first-child::after {align-self: flex-end;width: 50%;}#sk-container-id-1 div.sk-parallel-item:last-child::after {align-self: flex-start;width: 50%;}#sk-container-id-1 div.sk-parallel-item:only-child::after {width: 0;}#sk-container-id-1 div.sk-dashed-wrapped {border: 1px dashed gray;margin: 0 0.4em 0.5em 0.4em;box-sizing: border-box;padding-bottom: 0.4em;background-color: white;}#sk-container-id-1 div.sk-label label {font-family: monospace;font-weight: bold;display: inline-block;line-height: 1.2em;}#sk-container-id-1 div.sk-label-container {text-align: center;}#sk-container-id-1 div.sk-container {/* jupyter's `normalize.less` sets `[hidden] { display: none; }` but bootstrap.min.css set `[hidden] { display: none !important; }` so we also need the `!important` here to be able to override the default hidden behavior on the sphinx rendered scikit-learn.org. See: https://github.com/scikit-learn/scikit-learn/issues/21755 */display: inline-block !important;position: relative;}#sk-container-id-1 div.sk-text-repr-fallback {display: none;}</style><div id=\"sk-container-id-1\" class=\"sk-top-container\"><div class=\"sk-text-repr-fallback\"><pre>LogisticRegression()</pre><b>In a Jupyter environment, please rerun this cell to show the HTML representation or trust the notebook. <br />On GitHub, the HTML representation is unable to render, please try loading this page with nbviewer.org.</b></div><div class=\"sk-container\" hidden><div class=\"sk-item\"><div class=\"sk-estimator sk-toggleable\"><input class=\"sk-toggleable__control sk-hidden--visually\" id=\"sk-estimator-id-1\" type=\"checkbox\" checked><label for=\"sk-estimator-id-1\" class=\"sk-toggleable__label sk-toggleable__label-arrow\">LogisticRegression</label><div class=\"sk-toggleable__content\"><pre>LogisticRegression()</pre></div></div></div></div></div>"
      ],
      "text/plain": [
       "LogisticRegression()"
      ]
     },
     "execution_count": 11,
     "metadata": {},
     "output_type": "execute_result"
    }
   ],
   "source": [
    "from sklearn.linear_model import LogisticRegression\n",
    "LogR = LogisticRegression()\n",
    "LogR.fit(x_train, y_train)"
   ]
  },
  {
   "cell_type": "markdown",
   "id": "13fb6a45",
   "metadata": {},
   "source": [
    "### - Predicting the Test set results"
   ]
  },
  {
   "cell_type": "code",
   "execution_count": 12,
   "id": "c4c4bd76",
   "metadata": {},
   "outputs": [
    {
     "name": "stdout",
     "output_type": "stream",
     "text": [
      "[0 1 0 ... 0 1 0]\n"
     ]
    }
   ],
   "source": [
    "y_pred_LogR = LogR.predict(x_test)\n",
    "print(y_pred_LogR)"
   ]
  },
  {
   "cell_type": "markdown",
   "id": "440bc512",
   "metadata": {},
   "source": [
    "### - Lets see the actual and predicted value side by side, actual value on the left side and predicted value on the right side, printing the top 5 values"
   ]
  },
  {
   "cell_type": "code",
   "execution_count": 13,
   "id": "86a98de2",
   "metadata": {},
   "outputs": [
    {
     "data": {
      "text/plain": [
       "array([[1, 0],\n",
       "       [1, 1],\n",
       "       [0, 0],\n",
       "       [1, 1],\n",
       "       [0, 0]], dtype=int64)"
      ]
     },
     "execution_count": 13,
     "metadata": {},
     "output_type": "execute_result"
    }
   ],
   "source": [
    "y_compare_LogR = np.vstack((y_test, y_pred_LogR)).T\n",
    "y_compare_LogR[:5,:]"
   ]
  },
  {
   "cell_type": "code",
   "execution_count": 45,
   "id": "3535f8c0",
   "metadata": {},
   "outputs": [
    {
     "data": {
      "text/html": [
       "<div>\n",
       "<style scoped>\n",
       "    .dataframe tbody tr th:only-of-type {\n",
       "        vertical-align: middle;\n",
       "    }\n",
       "\n",
       "    .dataframe tbody tr th {\n",
       "        vertical-align: top;\n",
       "    }\n",
       "\n",
       "    .dataframe thead th {\n",
       "        text-align: right;\n",
       "    }\n",
       "</style>\n",
       "<table border=\"1\" class=\"dataframe\">\n",
       "  <thead>\n",
       "    <tr style=\"text-align: right;\">\n",
       "      <th></th>\n",
       "      <th>actual</th>\n",
       "      <th>pred</th>\n",
       "    </tr>\n",
       "  </thead>\n",
       "  <tbody>\n",
       "    <tr>\n",
       "      <th>0</th>\n",
       "      <td>1</td>\n",
       "      <td>0</td>\n",
       "    </tr>\n",
       "    <tr>\n",
       "      <th>1</th>\n",
       "      <td>1</td>\n",
       "      <td>1</td>\n",
       "    </tr>\n",
       "    <tr>\n",
       "      <th>2</th>\n",
       "      <td>0</td>\n",
       "      <td>0</td>\n",
       "    </tr>\n",
       "    <tr>\n",
       "      <th>3</th>\n",
       "      <td>1</td>\n",
       "      <td>1</td>\n",
       "    </tr>\n",
       "    <tr>\n",
       "      <th>4</th>\n",
       "      <td>0</td>\n",
       "      <td>0</td>\n",
       "    </tr>\n",
       "    <tr>\n",
       "      <th>...</th>\n",
       "      <td>...</td>\n",
       "      <td>...</td>\n",
       "    </tr>\n",
       "    <tr>\n",
       "      <th>7495</th>\n",
       "      <td>0</td>\n",
       "      <td>0</td>\n",
       "    </tr>\n",
       "    <tr>\n",
       "      <th>7496</th>\n",
       "      <td>1</td>\n",
       "      <td>0</td>\n",
       "    </tr>\n",
       "    <tr>\n",
       "      <th>7497</th>\n",
       "      <td>0</td>\n",
       "      <td>0</td>\n",
       "    </tr>\n",
       "    <tr>\n",
       "      <th>7498</th>\n",
       "      <td>1</td>\n",
       "      <td>1</td>\n",
       "    </tr>\n",
       "    <tr>\n",
       "      <th>7499</th>\n",
       "      <td>0</td>\n",
       "      <td>0</td>\n",
       "    </tr>\n",
       "  </tbody>\n",
       "</table>\n",
       "<p>7500 rows × 2 columns</p>\n",
       "</div>"
      ],
      "text/plain": [
       "      actual  pred\n",
       "0          1     0\n",
       "1          1     1\n",
       "2          0     0\n",
       "3          1     1\n",
       "4          0     0\n",
       "...      ...   ...\n",
       "7495       0     0\n",
       "7496       1     0\n",
       "7497       0     0\n",
       "7498       1     1\n",
       "7499       0     0\n",
       "\n",
       "[7500 rows x 2 columns]"
      ]
     },
     "execution_count": 45,
     "metadata": {},
     "output_type": "execute_result"
    }
   ],
   "source": [
    "Randpred = pd.DataFrame({ \"actual\": y_test, \"pred\": y_pred_LogRogRogR })\n",
    "Randpred\n"
   ]
  },
  {
   "cell_type": "markdown",
   "id": "6e68034e",
   "metadata": {},
   "source": [
    "### - Making the Confusion Matrix, Classification Report and Accuracy Score"
   ]
  },
  {
   "cell_type": "code",
   "execution_count": 14,
   "id": "c9a46b9b",
   "metadata": {},
   "outputs": [
    {
     "data": {
      "text/plain": [
       "array([[5727,  153],\n",
       "       [1237,  383]], dtype=int64)"
      ]
     },
     "execution_count": 14,
     "metadata": {},
     "output_type": "execute_result"
    }
   ],
   "source": [
    "metrics.confusion_matrix(y_test, y_pred_LogR)"
   ]
  },
  {
   "cell_type": "code",
   "execution_count": 15,
   "id": "86d9a9cc",
   "metadata": {},
   "outputs": [
    {
     "name": "stdout",
     "output_type": "stream",
     "text": [
      "              precision    recall  f1-score   support\n",
      "\n",
      "           0       0.82      0.97      0.89      5880\n",
      "           1       0.71      0.24      0.36      1620\n",
      "\n",
      "    accuracy                           0.81      7500\n",
      "   macro avg       0.77      0.61      0.62      7500\n",
      "weighted avg       0.80      0.81      0.78      7500\n",
      "\n"
     ]
    }
   ],
   "source": [
    "print(metrics.classification_report(y_test, y_pred_LogR))"
   ]
  },
  {
   "cell_type": "code",
   "execution_count": 16,
   "id": "c0a61917",
   "metadata": {},
   "outputs": [
    {
     "data": {
      "text/plain": [
       "0.8146666666666667"
      ]
     },
     "execution_count": 16,
     "metadata": {},
     "output_type": "execute_result"
    }
   ],
   "source": [
    "metrics.accuracy_score(y_test, y_pred_LogR)"
   ]
  },
  {
   "cell_type": "markdown",
   "id": "9e63c101",
   "metadata": {},
   "source": [
    "## 2. Applying Suppport Vector Machine (SVM) Algorithm"
   ]
  },
  {
   "cell_type": "markdown",
   "id": "3ea89d45",
   "metadata": {},
   "source": [
    "### - Setting the model and fitting"
   ]
  },
  {
   "cell_type": "code",
   "execution_count": 17,
   "id": "348d7c99",
   "metadata": {},
   "outputs": [
    {
     "data": {
      "text/html": [
       "<style>#sk-container-id-2 {color: black;background-color: white;}#sk-container-id-2 pre{padding: 0;}#sk-container-id-2 div.sk-toggleable {background-color: white;}#sk-container-id-2 label.sk-toggleable__label {cursor: pointer;display: block;width: 100%;margin-bottom: 0;padding: 0.3em;box-sizing: border-box;text-align: center;}#sk-container-id-2 label.sk-toggleable__label-arrow:before {content: \"▸\";float: left;margin-right: 0.25em;color: #696969;}#sk-container-id-2 label.sk-toggleable__label-arrow:hover:before {color: black;}#sk-container-id-2 div.sk-estimator:hover label.sk-toggleable__label-arrow:before {color: black;}#sk-container-id-2 div.sk-toggleable__content {max-height: 0;max-width: 0;overflow: hidden;text-align: left;background-color: #f0f8ff;}#sk-container-id-2 div.sk-toggleable__content pre {margin: 0.2em;color: black;border-radius: 0.25em;background-color: #f0f8ff;}#sk-container-id-2 input.sk-toggleable__control:checked~div.sk-toggleable__content {max-height: 200px;max-width: 100%;overflow: auto;}#sk-container-id-2 input.sk-toggleable__control:checked~label.sk-toggleable__label-arrow:before {content: \"▾\";}#sk-container-id-2 div.sk-estimator input.sk-toggleable__control:checked~label.sk-toggleable__label {background-color: #d4ebff;}#sk-container-id-2 div.sk-label input.sk-toggleable__control:checked~label.sk-toggleable__label {background-color: #d4ebff;}#sk-container-id-2 input.sk-hidden--visually {border: 0;clip: rect(1px 1px 1px 1px);clip: rect(1px, 1px, 1px, 1px);height: 1px;margin: -1px;overflow: hidden;padding: 0;position: absolute;width: 1px;}#sk-container-id-2 div.sk-estimator {font-family: monospace;background-color: #f0f8ff;border: 1px dotted black;border-radius: 0.25em;box-sizing: border-box;margin-bottom: 0.5em;}#sk-container-id-2 div.sk-estimator:hover {background-color: #d4ebff;}#sk-container-id-2 div.sk-parallel-item::after {content: \"\";width: 100%;border-bottom: 1px solid gray;flex-grow: 1;}#sk-container-id-2 div.sk-label:hover label.sk-toggleable__label {background-color: #d4ebff;}#sk-container-id-2 div.sk-serial::before {content: \"\";position: absolute;border-left: 1px solid gray;box-sizing: border-box;top: 0;bottom: 0;left: 50%;z-index: 0;}#sk-container-id-2 div.sk-serial {display: flex;flex-direction: column;align-items: center;background-color: white;padding-right: 0.2em;padding-left: 0.2em;position: relative;}#sk-container-id-2 div.sk-item {position: relative;z-index: 1;}#sk-container-id-2 div.sk-parallel {display: flex;align-items: stretch;justify-content: center;background-color: white;position: relative;}#sk-container-id-2 div.sk-item::before, #sk-container-id-2 div.sk-parallel-item::before {content: \"\";position: absolute;border-left: 1px solid gray;box-sizing: border-box;top: 0;bottom: 0;left: 50%;z-index: -1;}#sk-container-id-2 div.sk-parallel-item {display: flex;flex-direction: column;z-index: 1;position: relative;background-color: white;}#sk-container-id-2 div.sk-parallel-item:first-child::after {align-self: flex-end;width: 50%;}#sk-container-id-2 div.sk-parallel-item:last-child::after {align-self: flex-start;width: 50%;}#sk-container-id-2 div.sk-parallel-item:only-child::after {width: 0;}#sk-container-id-2 div.sk-dashed-wrapped {border: 1px dashed gray;margin: 0 0.4em 0.5em 0.4em;box-sizing: border-box;padding-bottom: 0.4em;background-color: white;}#sk-container-id-2 div.sk-label label {font-family: monospace;font-weight: bold;display: inline-block;line-height: 1.2em;}#sk-container-id-2 div.sk-label-container {text-align: center;}#sk-container-id-2 div.sk-container {/* jupyter's `normalize.less` sets `[hidden] { display: none; }` but bootstrap.min.css set `[hidden] { display: none !important; }` so we also need the `!important` here to be able to override the default hidden behavior on the sphinx rendered scikit-learn.org. See: https://github.com/scikit-learn/scikit-learn/issues/21755 */display: inline-block !important;position: relative;}#sk-container-id-2 div.sk-text-repr-fallback {display: none;}</style><div id=\"sk-container-id-2\" class=\"sk-top-container\"><div class=\"sk-text-repr-fallback\"><pre>SVC()</pre><b>In a Jupyter environment, please rerun this cell to show the HTML representation or trust the notebook. <br />On GitHub, the HTML representation is unable to render, please try loading this page with nbviewer.org.</b></div><div class=\"sk-container\" hidden><div class=\"sk-item\"><div class=\"sk-estimator sk-toggleable\"><input class=\"sk-toggleable__control sk-hidden--visually\" id=\"sk-estimator-id-2\" type=\"checkbox\" checked><label for=\"sk-estimator-id-2\" class=\"sk-toggleable__label sk-toggleable__label-arrow\">SVC</label><div class=\"sk-toggleable__content\"><pre>SVC()</pre></div></div></div></div></div>"
      ],
      "text/plain": [
       "SVC()"
      ]
     },
     "execution_count": 17,
     "metadata": {},
     "output_type": "execute_result"
    }
   ],
   "source": [
    "from sklearn.svm import SVC\n",
    "svm = SVC()\n",
    "svm.fit(x_train, y_train)"
   ]
  },
  {
   "cell_type": "markdown",
   "id": "ad646e0f",
   "metadata": {},
   "source": [
    "### - Predicting the Test set results"
   ]
  },
  {
   "cell_type": "code",
   "execution_count": 18,
   "id": "b2d042d4",
   "metadata": {},
   "outputs": [
    {
     "name": "stdout",
     "output_type": "stream",
     "text": [
      "[0 1 0 ... 0 1 1]\n"
     ]
    }
   ],
   "source": [
    "y_pred_svm = svm.predict(x_test)\n",
    "print(y_pred_svm)"
   ]
  },
  {
   "cell_type": "markdown",
   "id": "a9184684",
   "metadata": {},
   "source": [
    "### - Lets see the actual and predicted value side by side, actual value on the left side and predicted value on the right hand side, printing the top 5 values"
   ]
  },
  {
   "cell_type": "code",
   "execution_count": 19,
   "id": "ed3a3d57",
   "metadata": {},
   "outputs": [
    {
     "data": {
      "text/plain": [
       "array([[1, 0],\n",
       "       [1, 1],\n",
       "       [0, 0],\n",
       "       [1, 1],\n",
       "       [0, 0]], dtype=int64)"
      ]
     },
     "execution_count": 19,
     "metadata": {},
     "output_type": "execute_result"
    }
   ],
   "source": [
    "y_compare_svm = np.vstack((y_test,y_pred_svm)).T\n",
    "y_compare_svm[:5,:]"
   ]
  },
  {
   "cell_type": "markdown",
   "id": "f3aed94e",
   "metadata": {},
   "source": [
    "### - Making the Confusion Matrix, Classification Report and Accuracy Score"
   ]
  },
  {
   "cell_type": "code",
   "execution_count": 20,
   "id": "65e3a35a",
   "metadata": {},
   "outputs": [
    {
     "data": {
      "text/plain": [
       "array([[5636,  244],\n",
       "       [1091,  529]], dtype=int64)"
      ]
     },
     "execution_count": 20,
     "metadata": {},
     "output_type": "execute_result"
    }
   ],
   "source": [
    "metrics.confusion_matrix(y_test, y_pred_svm)"
   ]
  },
  {
   "cell_type": "code",
   "execution_count": 21,
   "id": "7ae4196d",
   "metadata": {},
   "outputs": [
    {
     "name": "stdout",
     "output_type": "stream",
     "text": [
      "              precision    recall  f1-score   support\n",
      "\n",
      "           0       0.84      0.96      0.89      5880\n",
      "           1       0.68      0.33      0.44      1620\n",
      "\n",
      "    accuracy                           0.82      7500\n",
      "   macro avg       0.76      0.64      0.67      7500\n",
      "weighted avg       0.80      0.82      0.80      7500\n",
      "\n"
     ]
    }
   ],
   "source": [
    "print(metrics.classification_report(y_test, y_pred_svm))"
   ]
  },
  {
   "cell_type": "code",
   "execution_count": 22,
   "id": "0b670d50",
   "metadata": {},
   "outputs": [
    {
     "data": {
      "text/plain": [
       "0.822"
      ]
     },
     "execution_count": 22,
     "metadata": {},
     "output_type": "execute_result"
    }
   ],
   "source": [
    "metrics.accuracy_score(y_test, y_pred_svm)"
   ]
  },
  {
   "cell_type": "markdown",
   "id": "0f59414e",
   "metadata": {},
   "source": [
    "## 3. Applying K-Fold Cross Validation (KFCV) Algorithm"
   ]
  },
  {
   "cell_type": "markdown",
   "id": "b1edf3b4",
   "metadata": {},
   "source": [
    "### - Setting the model, fitting and finding score"
   ]
  },
  {
   "cell_type": "code",
   "execution_count": 23,
   "id": "b48f72c5",
   "metadata": {},
   "outputs": [
    {
     "data": {
      "text/plain": [
       "0.8184"
      ]
     },
     "execution_count": 23,
     "metadata": {},
     "output_type": "execute_result"
    }
   ],
   "source": [
    "from sklearn.model_selection import cross_val_score\n",
    "from sklearn.svm import SVC\n",
    "svm = SVC()\n",
    "accuracies = cross_val_score(estimator=svm, X=x_train, y=y_train, cv=3)\n",
    "accuracies.mean() "
   ]
  },
  {
   "cell_type": "markdown",
   "id": "0086446a",
   "metadata": {},
   "source": [
    "### - Applying grid search to find the best model and the best parameters"
   ]
  },
  {
   "cell_type": "code",
   "execution_count": 24,
   "id": "89b0af23",
   "metadata": {},
   "outputs": [],
   "source": [
    "from sklearn.model_selection import GridSearchCV\n",
    "parameters = [{'C':[1,10,100,1000], 'kernel': ['linear']}, {'C':[1,10,100,1000], 'kernel': ['rbf']}]\n",
    "grid_search = GridSearchCV(estimator=svm, param_grid=parameters, scoring='accuracy', cv=3, n_jobs=1)\n",
    "# grid_search = grid_search.fit(x_train, y_train)"
   ]
  },
  {
   "cell_type": "code",
   "execution_count": 25,
   "id": "2531ca2e",
   "metadata": {},
   "outputs": [],
   "source": [
    "# from sklearn.model_selection import GridSearchCV\n",
    "# parameters = [{'C':[1,10,100,1000], 'kernel': ['linear']}, {'C':[1,10,100,1000], 'kernel': ['rbf'], 'gamma': [0.5, 0.1 ,0.001 ,0.0001]}]\n",
    "# grid_search = GridSearchCV(estimator=svm, param_grid=parameters, scoring='accuracy', cv=10, n_jobs=-1)\n",
    "# grid_search = grid_search.fit(x_train, y_train)\n",
    "# best_accuracy = grid_search.best_score_\n",
    "# best_parameters = grid_search.best_params_\n",
    "# print(best_accuracy, best_parameters)"
   ]
  },
  {
   "cell_type": "markdown",
   "id": "d43667a9",
   "metadata": {},
   "source": [
    "## 4. Applying Random Forest (RF) Algorithm"
   ]
  },
  {
   "cell_type": "markdown",
   "id": "468873c3",
   "metadata": {},
   "source": [
    "### - Setting the model and fitting"
   ]
  },
  {
   "cell_type": "code",
   "execution_count": 26,
   "id": "47c506f1",
   "metadata": {},
   "outputs": [
    {
     "data": {
      "text/html": [
       "<style>#sk-container-id-3 {color: black;background-color: white;}#sk-container-id-3 pre{padding: 0;}#sk-container-id-3 div.sk-toggleable {background-color: white;}#sk-container-id-3 label.sk-toggleable__label {cursor: pointer;display: block;width: 100%;margin-bottom: 0;padding: 0.3em;box-sizing: border-box;text-align: center;}#sk-container-id-3 label.sk-toggleable__label-arrow:before {content: \"▸\";float: left;margin-right: 0.25em;color: #696969;}#sk-container-id-3 label.sk-toggleable__label-arrow:hover:before {color: black;}#sk-container-id-3 div.sk-estimator:hover label.sk-toggleable__label-arrow:before {color: black;}#sk-container-id-3 div.sk-toggleable__content {max-height: 0;max-width: 0;overflow: hidden;text-align: left;background-color: #f0f8ff;}#sk-container-id-3 div.sk-toggleable__content pre {margin: 0.2em;color: black;border-radius: 0.25em;background-color: #f0f8ff;}#sk-container-id-3 input.sk-toggleable__control:checked~div.sk-toggleable__content {max-height: 200px;max-width: 100%;overflow: auto;}#sk-container-id-3 input.sk-toggleable__control:checked~label.sk-toggleable__label-arrow:before {content: \"▾\";}#sk-container-id-3 div.sk-estimator input.sk-toggleable__control:checked~label.sk-toggleable__label {background-color: #d4ebff;}#sk-container-id-3 div.sk-label input.sk-toggleable__control:checked~label.sk-toggleable__label {background-color: #d4ebff;}#sk-container-id-3 input.sk-hidden--visually {border: 0;clip: rect(1px 1px 1px 1px);clip: rect(1px, 1px, 1px, 1px);height: 1px;margin: -1px;overflow: hidden;padding: 0;position: absolute;width: 1px;}#sk-container-id-3 div.sk-estimator {font-family: monospace;background-color: #f0f8ff;border: 1px dotted black;border-radius: 0.25em;box-sizing: border-box;margin-bottom: 0.5em;}#sk-container-id-3 div.sk-estimator:hover {background-color: #d4ebff;}#sk-container-id-3 div.sk-parallel-item::after {content: \"\";width: 100%;border-bottom: 1px solid gray;flex-grow: 1;}#sk-container-id-3 div.sk-label:hover label.sk-toggleable__label {background-color: #d4ebff;}#sk-container-id-3 div.sk-serial::before {content: \"\";position: absolute;border-left: 1px solid gray;box-sizing: border-box;top: 0;bottom: 0;left: 50%;z-index: 0;}#sk-container-id-3 div.sk-serial {display: flex;flex-direction: column;align-items: center;background-color: white;padding-right: 0.2em;padding-left: 0.2em;position: relative;}#sk-container-id-3 div.sk-item {position: relative;z-index: 1;}#sk-container-id-3 div.sk-parallel {display: flex;align-items: stretch;justify-content: center;background-color: white;position: relative;}#sk-container-id-3 div.sk-item::before, #sk-container-id-3 div.sk-parallel-item::before {content: \"\";position: absolute;border-left: 1px solid gray;box-sizing: border-box;top: 0;bottom: 0;left: 50%;z-index: -1;}#sk-container-id-3 div.sk-parallel-item {display: flex;flex-direction: column;z-index: 1;position: relative;background-color: white;}#sk-container-id-3 div.sk-parallel-item:first-child::after {align-self: flex-end;width: 50%;}#sk-container-id-3 div.sk-parallel-item:last-child::after {align-self: flex-start;width: 50%;}#sk-container-id-3 div.sk-parallel-item:only-child::after {width: 0;}#sk-container-id-3 div.sk-dashed-wrapped {border: 1px dashed gray;margin: 0 0.4em 0.5em 0.4em;box-sizing: border-box;padding-bottom: 0.4em;background-color: white;}#sk-container-id-3 div.sk-label label {font-family: monospace;font-weight: bold;display: inline-block;line-height: 1.2em;}#sk-container-id-3 div.sk-label-container {text-align: center;}#sk-container-id-3 div.sk-container {/* jupyter's `normalize.less` sets `[hidden] { display: none; }` but bootstrap.min.css set `[hidden] { display: none !important; }` so we also need the `!important` here to be able to override the default hidden behavior on the sphinx rendered scikit-learn.org. See: https://github.com/scikit-learn/scikit-learn/issues/21755 */display: inline-block !important;position: relative;}#sk-container-id-3 div.sk-text-repr-fallback {display: none;}</style><div id=\"sk-container-id-3\" class=\"sk-top-container\"><div class=\"sk-text-repr-fallback\"><pre>RandomForestClassifier(max_depth=10, random_state=0)</pre><b>In a Jupyter environment, please rerun this cell to show the HTML representation or trust the notebook. <br />On GitHub, the HTML representation is unable to render, please try loading this page with nbviewer.org.</b></div><div class=\"sk-container\" hidden><div class=\"sk-item\"><div class=\"sk-estimator sk-toggleable\"><input class=\"sk-toggleable__control sk-hidden--visually\" id=\"sk-estimator-id-3\" type=\"checkbox\" checked><label for=\"sk-estimator-id-3\" class=\"sk-toggleable__label sk-toggleable__label-arrow\">RandomForestClassifier</label><div class=\"sk-toggleable__content\"><pre>RandomForestClassifier(max_depth=10, random_state=0)</pre></div></div></div></div></div>"
      ],
      "text/plain": [
       "RandomForestClassifier(max_depth=10, random_state=0)"
      ]
     },
     "execution_count": 26,
     "metadata": {},
     "output_type": "execute_result"
    }
   ],
   "source": [
    "from sklearn.ensemble import RandomForestClassifier\n",
    "rfc = RandomForestClassifier(max_depth=10, random_state=0)\n",
    "rfc.fit(x_train, y_train)"
   ]
  },
  {
   "cell_type": "markdown",
   "id": "3e0e2f14",
   "metadata": {},
   "source": [
    "### - Predicting the Test set results"
   ]
  },
  {
   "cell_type": "code",
   "execution_count": 27,
   "id": "d84979ff",
   "metadata": {},
   "outputs": [
    {
     "name": "stdout",
     "output_type": "stream",
     "text": [
      "[0 1 0 ... 0 1 1]\n"
     ]
    }
   ],
   "source": [
    "y_pred_rf = rfc.predict(x_test)\n",
    "print(y_pred_rf)"
   ]
  },
  {
   "cell_type": "markdown",
   "id": "f9785c1d",
   "metadata": {},
   "source": [
    "### - Lets see the actual and predicted value side by side, actual value on the left side and predicted value on the right hand side, printing the top 5 values"
   ]
  },
  {
   "cell_type": "code",
   "execution_count": 28,
   "id": "81237bdd",
   "metadata": {},
   "outputs": [
    {
     "data": {
      "text/plain": [
       "array([[1, 0],\n",
       "       [1, 1],\n",
       "       [0, 0],\n",
       "       [1, 0],\n",
       "       [0, 0]], dtype=int64)"
      ]
     },
     "execution_count": 28,
     "metadata": {},
     "output_type": "execute_result"
    }
   ],
   "source": [
    "y_compare_rf = np.vstack((y_test,y_pred_rf)).T\n",
    "y_compare_rf[:5,:]"
   ]
  },
  {
   "cell_type": "markdown",
   "id": "2badb269",
   "metadata": {},
   "source": [
    "### - Making the Confusion Matrix, Classification Report and Accuracy Score"
   ]
  },
  {
   "cell_type": "code",
   "execution_count": 29,
   "id": "e23bc84a",
   "metadata": {},
   "outputs": [
    {
     "data": {
      "text/plain": [
       "array([[5600,  280],\n",
       "       [1053,  567]], dtype=int64)"
      ]
     },
     "execution_count": 29,
     "metadata": {},
     "output_type": "execute_result"
    }
   ],
   "source": [
    "metrics.confusion_matrix(y_test, y_pred_rf)"
   ]
  },
  {
   "cell_type": "code",
   "execution_count": 30,
   "id": "66a32a59",
   "metadata": {},
   "outputs": [
    {
     "name": "stdout",
     "output_type": "stream",
     "text": [
      "              precision    recall  f1-score   support\n",
      "\n",
      "           0       0.84      0.95      0.89      5880\n",
      "           1       0.67      0.35      0.46      1620\n",
      "\n",
      "    accuracy                           0.82      7500\n",
      "   macro avg       0.76      0.65      0.68      7500\n",
      "weighted avg       0.80      0.82      0.80      7500\n",
      "\n"
     ]
    }
   ],
   "source": [
    "print(metrics.classification_report(y_test, y_pred_rf))"
   ]
  },
  {
   "cell_type": "code",
   "execution_count": 31,
   "id": "a4e923a3",
   "metadata": {},
   "outputs": [
    {
     "data": {
      "text/plain": [
       "0.8222666666666667"
      ]
     },
     "execution_count": 31,
     "metadata": {},
     "output_type": "execute_result"
    }
   ],
   "source": [
    "metrics.accuracy_score(y_test, y_pred_rf)"
   ]
  },
  {
   "cell_type": "markdown",
   "id": "062095e3",
   "metadata": {},
   "source": [
    "## 5. Applying K-Nearest Neighbor (KNN) Algorithm"
   ]
  },
  {
   "cell_type": "markdown",
   "id": "54aea723",
   "metadata": {},
   "source": [
    "### - Setting the model and fitting"
   ]
  },
  {
   "cell_type": "code",
   "execution_count": 32,
   "id": "5c8cc289",
   "metadata": {},
   "outputs": [
    {
     "data": {
      "text/html": [
       "<style>#sk-container-id-4 {color: black;background-color: white;}#sk-container-id-4 pre{padding: 0;}#sk-container-id-4 div.sk-toggleable {background-color: white;}#sk-container-id-4 label.sk-toggleable__label {cursor: pointer;display: block;width: 100%;margin-bottom: 0;padding: 0.3em;box-sizing: border-box;text-align: center;}#sk-container-id-4 label.sk-toggleable__label-arrow:before {content: \"▸\";float: left;margin-right: 0.25em;color: #696969;}#sk-container-id-4 label.sk-toggleable__label-arrow:hover:before {color: black;}#sk-container-id-4 div.sk-estimator:hover label.sk-toggleable__label-arrow:before {color: black;}#sk-container-id-4 div.sk-toggleable__content {max-height: 0;max-width: 0;overflow: hidden;text-align: left;background-color: #f0f8ff;}#sk-container-id-4 div.sk-toggleable__content pre {margin: 0.2em;color: black;border-radius: 0.25em;background-color: #f0f8ff;}#sk-container-id-4 input.sk-toggleable__control:checked~div.sk-toggleable__content {max-height: 200px;max-width: 100%;overflow: auto;}#sk-container-id-4 input.sk-toggleable__control:checked~label.sk-toggleable__label-arrow:before {content: \"▾\";}#sk-container-id-4 div.sk-estimator input.sk-toggleable__control:checked~label.sk-toggleable__label {background-color: #d4ebff;}#sk-container-id-4 div.sk-label input.sk-toggleable__control:checked~label.sk-toggleable__label {background-color: #d4ebff;}#sk-container-id-4 input.sk-hidden--visually {border: 0;clip: rect(1px 1px 1px 1px);clip: rect(1px, 1px, 1px, 1px);height: 1px;margin: -1px;overflow: hidden;padding: 0;position: absolute;width: 1px;}#sk-container-id-4 div.sk-estimator {font-family: monospace;background-color: #f0f8ff;border: 1px dotted black;border-radius: 0.25em;box-sizing: border-box;margin-bottom: 0.5em;}#sk-container-id-4 div.sk-estimator:hover {background-color: #d4ebff;}#sk-container-id-4 div.sk-parallel-item::after {content: \"\";width: 100%;border-bottom: 1px solid gray;flex-grow: 1;}#sk-container-id-4 div.sk-label:hover label.sk-toggleable__label {background-color: #d4ebff;}#sk-container-id-4 div.sk-serial::before {content: \"\";position: absolute;border-left: 1px solid gray;box-sizing: border-box;top: 0;bottom: 0;left: 50%;z-index: 0;}#sk-container-id-4 div.sk-serial {display: flex;flex-direction: column;align-items: center;background-color: white;padding-right: 0.2em;padding-left: 0.2em;position: relative;}#sk-container-id-4 div.sk-item {position: relative;z-index: 1;}#sk-container-id-4 div.sk-parallel {display: flex;align-items: stretch;justify-content: center;background-color: white;position: relative;}#sk-container-id-4 div.sk-item::before, #sk-container-id-4 div.sk-parallel-item::before {content: \"\";position: absolute;border-left: 1px solid gray;box-sizing: border-box;top: 0;bottom: 0;left: 50%;z-index: -1;}#sk-container-id-4 div.sk-parallel-item {display: flex;flex-direction: column;z-index: 1;position: relative;background-color: white;}#sk-container-id-4 div.sk-parallel-item:first-child::after {align-self: flex-end;width: 50%;}#sk-container-id-4 div.sk-parallel-item:last-child::after {align-self: flex-start;width: 50%;}#sk-container-id-4 div.sk-parallel-item:only-child::after {width: 0;}#sk-container-id-4 div.sk-dashed-wrapped {border: 1px dashed gray;margin: 0 0.4em 0.5em 0.4em;box-sizing: border-box;padding-bottom: 0.4em;background-color: white;}#sk-container-id-4 div.sk-label label {font-family: monospace;font-weight: bold;display: inline-block;line-height: 1.2em;}#sk-container-id-4 div.sk-label-container {text-align: center;}#sk-container-id-4 div.sk-container {/* jupyter's `normalize.less` sets `[hidden] { display: none; }` but bootstrap.min.css set `[hidden] { display: none !important; }` so we also need the `!important` here to be able to override the default hidden behavior on the sphinx rendered scikit-learn.org. See: https://github.com/scikit-learn/scikit-learn/issues/21755 */display: inline-block !important;position: relative;}#sk-container-id-4 div.sk-text-repr-fallback {display: none;}</style><div id=\"sk-container-id-4\" class=\"sk-top-container\"><div class=\"sk-text-repr-fallback\"><pre>KNeighborsClassifier()</pre><b>In a Jupyter environment, please rerun this cell to show the HTML representation or trust the notebook. <br />On GitHub, the HTML representation is unable to render, please try loading this page with nbviewer.org.</b></div><div class=\"sk-container\" hidden><div class=\"sk-item\"><div class=\"sk-estimator sk-toggleable\"><input class=\"sk-toggleable__control sk-hidden--visually\" id=\"sk-estimator-id-4\" type=\"checkbox\" checked><label for=\"sk-estimator-id-4\" class=\"sk-toggleable__label sk-toggleable__label-arrow\">KNeighborsClassifier</label><div class=\"sk-toggleable__content\"><pre>KNeighborsClassifier()</pre></div></div></div></div></div>"
      ],
      "text/plain": [
       "KNeighborsClassifier()"
      ]
     },
     "execution_count": 32,
     "metadata": {},
     "output_type": "execute_result"
    }
   ],
   "source": [
    "from sklearn.neighbors import KNeighborsClassifier\n",
    "knc = KNeighborsClassifier()\n",
    "knc.fit(x_train, y_train)"
   ]
  },
  {
   "cell_type": "markdown",
   "id": "a2eefa65",
   "metadata": {},
   "source": [
    "### - Predicting the Test set results"
   ]
  },
  {
   "cell_type": "code",
   "execution_count": 33,
   "id": "e32b41eb",
   "metadata": {},
   "outputs": [
    {
     "name": "stdout",
     "output_type": "stream",
     "text": [
      "[1 1 0 ... 0 0 1]\n"
     ]
    }
   ],
   "source": [
    "y_pred_knn = knc.predict(x_test)\n",
    "print(y_pred_knn)"
   ]
  },
  {
   "cell_type": "markdown",
   "id": "80f6c09f",
   "metadata": {},
   "source": [
    "### - Lets see the actual and predicted value side by side, actual value on the left side and predicted value on the right hand side, printing the top 5 values"
   ]
  },
  {
   "cell_type": "code",
   "execution_count": 34,
   "id": "db402e86",
   "metadata": {},
   "outputs": [
    {
     "data": {
      "text/plain": [
       "array([[1, 1],\n",
       "       [1, 1],\n",
       "       [0, 0],\n",
       "       [1, 1],\n",
       "       [0, 0]], dtype=int64)"
      ]
     },
     "execution_count": 34,
     "metadata": {},
     "output_type": "execute_result"
    }
   ],
   "source": [
    "y_compare_knn = np.vstack((y_test,y_pred_knn)).T\n",
    "y_compare_knn[:5,:]"
   ]
  },
  {
   "cell_type": "markdown",
   "id": "5e5a40b0",
   "metadata": {},
   "source": [
    "### - Making the Confusion Matrix, Classification Report and Accuracy Score"
   ]
  },
  {
   "cell_type": "code",
   "execution_count": 35,
   "id": "b6e91938",
   "metadata": {},
   "outputs": [
    {
     "data": {
      "text/plain": [
       "array([[5418,  462],\n",
       "       [1066,  554]], dtype=int64)"
      ]
     },
     "execution_count": 35,
     "metadata": {},
     "output_type": "execute_result"
    }
   ],
   "source": [
    "metrics.confusion_matrix(y_test, y_pred_knn)"
   ]
  },
  {
   "cell_type": "code",
   "execution_count": 36,
   "id": "2ddb122b",
   "metadata": {},
   "outputs": [
    {
     "name": "stdout",
     "output_type": "stream",
     "text": [
      "              precision    recall  f1-score   support\n",
      "\n",
      "           0       0.84      0.92      0.88      5880\n",
      "           1       0.55      0.34      0.42      1620\n",
      "\n",
      "    accuracy                           0.80      7500\n",
      "   macro avg       0.69      0.63      0.65      7500\n",
      "weighted avg       0.77      0.80      0.78      7500\n",
      "\n"
     ]
    }
   ],
   "source": [
    "print(metrics.classification_report(y_test, y_pred_knn))"
   ]
  },
  {
   "cell_type": "code",
   "execution_count": 37,
   "id": "ba446fd8",
   "metadata": {},
   "outputs": [
    {
     "data": {
      "text/plain": [
       "0.7962666666666667"
      ]
     },
     "execution_count": 37,
     "metadata": {},
     "output_type": "execute_result"
    }
   ],
   "source": [
    "metrics.accuracy_score(y_test, y_pred_knn)"
   ]
  },
  {
   "cell_type": "markdown",
   "id": "52bb20c6",
   "metadata": {},
   "source": [
    "## 6. Applying Artificial Neural Network (ANN) Algorithm"
   ]
  },
  {
   "cell_type": "markdown",
   "id": "ce638e39",
   "metadata": {},
   "source": [
    "### - Setting the model and fitting"
   ]
  },
  {
   "cell_type": "code",
   "execution_count": 38,
   "id": "a1eefce3",
   "metadata": {},
   "outputs": [
    {
     "name": "stdout",
     "output_type": "stream",
     "text": [
      "Epoch 1/100\n",
      "704/704 [==============================] - 1s 1ms/step - loss: 0.5133 - accuracy: 0.7805\n",
      "Epoch 2/100\n",
      "704/704 [==============================] - 1s 1ms/step - loss: 0.4621 - accuracy: 0.8054\n",
      "Epoch 3/100\n",
      "704/704 [==============================] - 1s 1ms/step - loss: 0.4535 - accuracy: 0.8090\n",
      "Epoch 4/100\n",
      "704/704 [==============================] - 1s 1ms/step - loss: 0.4485 - accuracy: 0.8115\n",
      "Epoch 5/100\n",
      "704/704 [==============================] - 1s 1ms/step - loss: 0.4448 - accuracy: 0.8139\n",
      "Epoch 6/100\n",
      "704/704 [==============================] - 1s 1ms/step - loss: 0.4410 - accuracy: 0.8157\n",
      "Epoch 7/100\n",
      "704/704 [==============================] - 1s 1ms/step - loss: 0.4384 - accuracy: 0.8184\n",
      "Epoch 8/100\n",
      "704/704 [==============================] - 1s 1ms/step - loss: 0.4353 - accuracy: 0.8187\n",
      "Epoch 9/100\n",
      "704/704 [==============================] - 1s 1ms/step - loss: 0.4337 - accuracy: 0.8185\n",
      "Epoch 10/100\n",
      "704/704 [==============================] - 1s 1ms/step - loss: 0.4323 - accuracy: 0.8192\n",
      "Epoch 11/100\n",
      "704/704 [==============================] - 1s 1ms/step - loss: 0.4314 - accuracy: 0.8200\n",
      "Epoch 12/100\n",
      "704/704 [==============================] - 1s 1ms/step - loss: 0.4303 - accuracy: 0.8203\n",
      "Epoch 13/100\n",
      "704/704 [==============================] - 1s 1ms/step - loss: 0.4294 - accuracy: 0.8201\n",
      "Epoch 14/100\n",
      "704/704 [==============================] - 1s 1ms/step - loss: 0.4288 - accuracy: 0.8199\n",
      "Epoch 15/100\n",
      "704/704 [==============================] - 1s 1ms/step - loss: 0.4283 - accuracy: 0.8204\n",
      "Epoch 16/100\n",
      "704/704 [==============================] - 1s 1ms/step - loss: 0.4283 - accuracy: 0.8202\n",
      "Epoch 17/100\n",
      "704/704 [==============================] - 1s 1ms/step - loss: 0.4274 - accuracy: 0.8202\n",
      "Epoch 18/100\n",
      "704/704 [==============================] - 1s 1ms/step - loss: 0.4274 - accuracy: 0.8209\n",
      "Epoch 19/100\n",
      "704/704 [==============================] - 1s 1ms/step - loss: 0.4267 - accuracy: 0.8208\n",
      "Epoch 20/100\n",
      "704/704 [==============================] - 1s 1ms/step - loss: 0.4265 - accuracy: 0.8207\n",
      "Epoch 21/100\n",
      "704/704 [==============================] - 1s 1ms/step - loss: 0.4261 - accuracy: 0.8205\n",
      "Epoch 22/100\n",
      "704/704 [==============================] - 1s 1ms/step - loss: 0.4257 - accuracy: 0.8216\n",
      "Epoch 23/100\n",
      "704/704 [==============================] - 1s 1ms/step - loss: 0.4252 - accuracy: 0.8213\n",
      "Epoch 24/100\n",
      "704/704 [==============================] - 1s 1ms/step - loss: 0.4251 - accuracy: 0.8200\n",
      "Epoch 25/100\n",
      "704/704 [==============================] - 1s 1ms/step - loss: 0.4249 - accuracy: 0.8212\n",
      "Epoch 26/100\n",
      "704/704 [==============================] - 1s 1ms/step - loss: 0.4247 - accuracy: 0.8198\n",
      "Epoch 27/100\n",
      "704/704 [==============================] - 1s 1ms/step - loss: 0.4242 - accuracy: 0.8208\n",
      "Epoch 28/100\n",
      "704/704 [==============================] - 1s 1ms/step - loss: 0.4245 - accuracy: 0.8200\n",
      "Epoch 29/100\n",
      "704/704 [==============================] - 1s 1ms/step - loss: 0.4241 - accuracy: 0.8205\n",
      "Epoch 30/100\n",
      "704/704 [==============================] - 1s 1ms/step - loss: 0.4237 - accuracy: 0.8207\n",
      "Epoch 31/100\n",
      "704/704 [==============================] - 1s 1ms/step - loss: 0.4240 - accuracy: 0.8212\n",
      "Epoch 32/100\n",
      "704/704 [==============================] - 1s 1ms/step - loss: 0.4238 - accuracy: 0.8200\n",
      "Epoch 33/100\n",
      "704/704 [==============================] - 1s 1ms/step - loss: 0.4234 - accuracy: 0.8203\n",
      "Epoch 34/100\n",
      "704/704 [==============================] - 1s 1ms/step - loss: 0.4234 - accuracy: 0.8213\n",
      "Epoch 35/100\n",
      "704/704 [==============================] - 1s 1ms/step - loss: 0.4232 - accuracy: 0.8209\n",
      "Epoch 36/100\n",
      "704/704 [==============================] - 1s 1ms/step - loss: 0.4234 - accuracy: 0.8211\n",
      "Epoch 37/100\n",
      "704/704 [==============================] - 1s 1ms/step - loss: 0.4230 - accuracy: 0.8213\n",
      "Epoch 38/100\n",
      "704/704 [==============================] - 1s 1ms/step - loss: 0.4230 - accuracy: 0.8208\n",
      "Epoch 39/100\n",
      "704/704 [==============================] - 1s 1ms/step - loss: 0.4226 - accuracy: 0.8208\n",
      "Epoch 40/100\n",
      "704/704 [==============================] - 1s 1ms/step - loss: 0.4222 - accuracy: 0.8212\n",
      "Epoch 41/100\n",
      "704/704 [==============================] - 1s 1ms/step - loss: 0.4225 - accuracy: 0.8211\n",
      "Epoch 42/100\n",
      "704/704 [==============================] - 1s 1ms/step - loss: 0.4222 - accuracy: 0.8220\n",
      "Epoch 43/100\n",
      "704/704 [==============================] - 1s 1ms/step - loss: 0.4220 - accuracy: 0.8208\n",
      "Epoch 44/100\n",
      "704/704 [==============================] - 1s 1ms/step - loss: 0.4218 - accuracy: 0.8210\n",
      "Epoch 45/100\n",
      "704/704 [==============================] - 1s 1ms/step - loss: 0.4216 - accuracy: 0.8214\n",
      "Epoch 46/100\n",
      "704/704 [==============================] - 1s 1ms/step - loss: 0.4217 - accuracy: 0.8219\n",
      "Epoch 47/100\n",
      "704/704 [==============================] - 1s 1ms/step - loss: 0.4213 - accuracy: 0.8216\n",
      "Epoch 48/100\n",
      "704/704 [==============================] - 1s 1ms/step - loss: 0.4213 - accuracy: 0.8218\n",
      "Epoch 49/100\n",
      "704/704 [==============================] - 1s 1ms/step - loss: 0.4212 - accuracy: 0.8211\n",
      "Epoch 50/100\n",
      "704/704 [==============================] - 1s 1ms/step - loss: 0.4212 - accuracy: 0.8213\n",
      "Epoch 51/100\n",
      "704/704 [==============================] - 1s 1ms/step - loss: 0.4210 - accuracy: 0.8220\n",
      "Epoch 52/100\n",
      "704/704 [==============================] - 1s 1ms/step - loss: 0.4213 - accuracy: 0.8215\n",
      "Epoch 53/100\n",
      "704/704 [==============================] - 1s 1ms/step - loss: 0.4211 - accuracy: 0.8210\n",
      "Epoch 54/100\n",
      "704/704 [==============================] - 1s 1ms/step - loss: 0.4207 - accuracy: 0.8217\n",
      "Epoch 55/100\n",
      "704/704 [==============================] - 1s 1ms/step - loss: 0.4208 - accuracy: 0.8221\n",
      "Epoch 56/100\n",
      "704/704 [==============================] - 1s 1ms/step - loss: 0.4204 - accuracy: 0.8224\n",
      "Epoch 57/100\n",
      "704/704 [==============================] - 1s 1ms/step - loss: 0.4202 - accuracy: 0.8222\n",
      "Epoch 58/100\n",
      "704/704 [==============================] - 1s 1ms/step - loss: 0.4203 - accuracy: 0.8220\n",
      "Epoch 59/100\n",
      "704/704 [==============================] - 1s 1ms/step - loss: 0.4205 - accuracy: 0.8219\n",
      "Epoch 60/100\n",
      "704/704 [==============================] - 1s 1ms/step - loss: 0.4201 - accuracy: 0.8219\n",
      "Epoch 61/100\n",
      "704/704 [==============================] - 1s 1ms/step - loss: 0.4204 - accuracy: 0.8220\n",
      "Epoch 62/100\n",
      "704/704 [==============================] - 1s 1ms/step - loss: 0.4199 - accuracy: 0.8211\n",
      "Epoch 63/100\n",
      "704/704 [==============================] - 1s 1ms/step - loss: 0.4199 - accuracy: 0.8223\n",
      "Epoch 64/100\n",
      "704/704 [==============================] - 1s 1ms/step - loss: 0.4199 - accuracy: 0.8228\n",
      "Epoch 65/100\n",
      "704/704 [==============================] - 1s 1ms/step - loss: 0.4199 - accuracy: 0.8216\n",
      "Epoch 66/100\n",
      "704/704 [==============================] - 1s 1ms/step - loss: 0.4196 - accuracy: 0.8222\n",
      "Epoch 67/100\n",
      "704/704 [==============================] - 1s 1ms/step - loss: 0.4196 - accuracy: 0.8225\n",
      "Epoch 68/100\n",
      "704/704 [==============================] - 1s 1ms/step - loss: 0.4198 - accuracy: 0.8221\n",
      "Epoch 69/100\n",
      "704/704 [==============================] - 1s 1ms/step - loss: 0.4196 - accuracy: 0.8236\n",
      "Epoch 70/100\n",
      "704/704 [==============================] - 1s 1ms/step - loss: 0.4193 - accuracy: 0.8222\n",
      "Epoch 71/100\n",
      "704/704 [==============================] - 1s 1ms/step - loss: 0.4196 - accuracy: 0.8230\n",
      "Epoch 72/100\n",
      "704/704 [==============================] - 1s 1ms/step - loss: 0.4192 - accuracy: 0.8230\n",
      "Epoch 73/100\n",
      "704/704 [==============================] - 1s 1ms/step - loss: 0.4192 - accuracy: 0.8226\n",
      "Epoch 74/100\n",
      "704/704 [==============================] - 1s 1ms/step - loss: 0.4194 - accuracy: 0.8222\n",
      "Epoch 75/100\n",
      "704/704 [==============================] - 1s 1ms/step - loss: 0.4195 - accuracy: 0.8220\n",
      "Epoch 76/100\n",
      "704/704 [==============================] - 1s 1ms/step - loss: 0.4193 - accuracy: 0.8229\n",
      "Epoch 77/100\n",
      "704/704 [==============================] - 1s 1ms/step - loss: 0.4190 - accuracy: 0.8221\n",
      "Epoch 78/100\n",
      "704/704 [==============================] - 1s 1ms/step - loss: 0.4189 - accuracy: 0.8228\n",
      "Epoch 79/100\n",
      "704/704 [==============================] - 1s 1ms/step - loss: 0.4189 - accuracy: 0.8221\n",
      "Epoch 80/100\n",
      "704/704 [==============================] - 1s 1ms/step - loss: 0.4188 - accuracy: 0.8224\n",
      "Epoch 81/100\n"
     ]
    },
    {
     "name": "stdout",
     "output_type": "stream",
     "text": [
      "704/704 [==============================] - 1s 1ms/step - loss: 0.4188 - accuracy: 0.8230\n",
      "Epoch 82/100\n",
      "704/704 [==============================] - 1s 1ms/step - loss: 0.4188 - accuracy: 0.8231\n",
      "Epoch 83/100\n",
      "704/704 [==============================] - 1s 1ms/step - loss: 0.4188 - accuracy: 0.8229\n",
      "Epoch 84/100\n",
      "704/704 [==============================] - 1s 1ms/step - loss: 0.4187 - accuracy: 0.8224\n",
      "Epoch 85/100\n",
      "704/704 [==============================] - 1s 1ms/step - loss: 0.4184 - accuracy: 0.8224\n",
      "Epoch 86/100\n",
      "704/704 [==============================] - 1s 1ms/step - loss: 0.4186 - accuracy: 0.8238\n",
      "Epoch 87/100\n",
      "704/704 [==============================] - 1s 1ms/step - loss: 0.4184 - accuracy: 0.8225\n",
      "Epoch 88/100\n",
      "704/704 [==============================] - 1s 1ms/step - loss: 0.4181 - accuracy: 0.8218\n",
      "Epoch 89/100\n",
      "704/704 [==============================] - 1s 1ms/step - loss: 0.4183 - accuracy: 0.8221\n",
      "Epoch 90/100\n",
      "704/704 [==============================] - 1s 1ms/step - loss: 0.4184 - accuracy: 0.8232\n",
      "Epoch 91/100\n",
      "704/704 [==============================] - 1s 1ms/step - loss: 0.4184 - accuracy: 0.8220\n",
      "Epoch 92/100\n",
      "704/704 [==============================] - 1s 1ms/step - loss: 0.4183 - accuracy: 0.8228\n",
      "Epoch 93/100\n",
      "704/704 [==============================] - 1s 1ms/step - loss: 0.4180 - accuracy: 0.8222\n",
      "Epoch 94/100\n",
      "704/704 [==============================] - 1s 1ms/step - loss: 0.4185 - accuracy: 0.8220\n",
      "Epoch 95/100\n",
      "704/704 [==============================] - 1s 1ms/step - loss: 0.4178 - accuracy: 0.8228\n",
      "Epoch 96/100\n",
      "704/704 [==============================] - 1s 1ms/step - loss: 0.4185 - accuracy: 0.8232\n",
      "Epoch 97/100\n",
      "704/704 [==============================] - 1s 1ms/step - loss: 0.4180 - accuracy: 0.8241\n",
      "Epoch 98/100\n",
      "704/704 [==============================] - 1s 1ms/step - loss: 0.4179 - accuracy: 0.8234\n",
      "Epoch 99/100\n",
      "704/704 [==============================] - 1s 1ms/step - loss: 0.4178 - accuracy: 0.8232\n",
      "Epoch 100/100\n",
      "704/704 [==============================] - 1s 1ms/step - loss: 0.4183 - accuracy: 0.8225\n"
     ]
    },
    {
     "data": {
      "text/plain": [
       "<keras.callbacks.History at 0x185153ca5c0>"
      ]
     },
     "execution_count": 38,
     "metadata": {},
     "output_type": "execute_result"
    }
   ],
   "source": [
    "import keras\n",
    "from keras.models import Sequential\n",
    "from keras.layers import Dense\n",
    "ann = Sequential()\n",
    "#ann.add(keras.Input(shape=(16,)))\n",
    "ann.add(Dense(12, activation='relu', input_shape=(24,)))\n",
    "ann.add(Dense(7, activation='relu'))\n",
    "ann.add(Dense(1, activation='sigmoid'))\n",
    "ann.compile(optimizer='adam', loss='binary_crossentropy', metrics=['accuracy'])\n",
    "ann.fit(x_train, y_train, epochs=100)"
   ]
  },
  {
   "cell_type": "markdown",
   "id": "3f385488",
   "metadata": {},
   "source": [
    "### - Predicting the Test set results"
   ]
  },
  {
   "cell_type": "code",
   "execution_count": 39,
   "id": "4e564fbc",
   "metadata": {},
   "outputs": [
    {
     "name": "stdout",
     "output_type": "stream",
     "text": [
      "235/235 [==============================] - 0s 1ms/step\n",
      "[[0.5283924 ]\n",
      " [0.67364126]\n",
      " [0.23568837]\n",
      " ...\n",
      " [0.02337574]\n",
      " [0.59596246]\n",
      " [0.8133173 ]]\n"
     ]
    },
    {
     "data": {
      "text/plain": [
       "array([[ True],\n",
       "       [ True],\n",
       "       [False],\n",
       "       ...,\n",
       "       [False],\n",
       "       [ True],\n",
       "       [ True]])"
      ]
     },
     "execution_count": 39,
     "metadata": {},
     "output_type": "execute_result"
    }
   ],
   "source": [
    "y_pred_ann = ann.predict(x_test)\n",
    "print(y_pred_ann)\n",
    "y_pred_ann = (y_pred_ann > 0.5)\n",
    "y_pred_ann"
   ]
  },
  {
   "cell_type": "code",
   "execution_count": 40,
   "id": "3c0b3a7e",
   "metadata": {},
   "outputs": [
    {
     "name": "stdout",
     "output_type": "stream",
     "text": [
      "235/235 [==============================] - 0s 902us/step\n",
      "[1 1 0 ... 0 1 1]\n"
     ]
    }
   ],
   "source": [
    "y_pred_ann = ann.predict(x_test)\n",
    "y_pred_ann = np.array([1 if i[0]>0.5 else 0 for i in y_pred_ann])\n",
    "print(y_pred_ann)"
   ]
  },
  {
   "cell_type": "markdown",
   "id": "a1c50351",
   "metadata": {},
   "source": [
    "### - Lets see the actual and predicted value side by side, actual value on the left side and predicted value on the right hand side, printing the top 5 values"
   ]
  },
  {
   "cell_type": "code",
   "execution_count": 41,
   "id": "60420a5a",
   "metadata": {},
   "outputs": [
    {
     "data": {
      "text/plain": [
       "array([[1, 1],\n",
       "       [1, 1],\n",
       "       [0, 0],\n",
       "       [1, 1],\n",
       "       [0, 0]], dtype=int64)"
      ]
     },
     "execution_count": 41,
     "metadata": {},
     "output_type": "execute_result"
    }
   ],
   "source": [
    "y_compare_ann = np.vstack((y_test,y_pred_ann)).T\n",
    "y_compare_ann[:5,:]"
   ]
  },
  {
   "cell_type": "markdown",
   "id": "31b1daf2",
   "metadata": {},
   "source": [
    "### - Making the Confusion Matrix, Classification Report and Accuracy Score"
   ]
  },
  {
   "cell_type": "code",
   "execution_count": 42,
   "id": "5e15c0d4",
   "metadata": {},
   "outputs": [
    {
     "data": {
      "text/plain": [
       "array([[5524,  356],\n",
       "       [ 999,  621]], dtype=int64)"
      ]
     },
     "execution_count": 42,
     "metadata": {},
     "output_type": "execute_result"
    }
   ],
   "source": [
    "metrics.confusion_matrix(y_test, y_pred_ann)"
   ]
  },
  {
   "cell_type": "code",
   "execution_count": 43,
   "id": "c634b06a",
   "metadata": {},
   "outputs": [
    {
     "name": "stdout",
     "output_type": "stream",
     "text": [
      "              precision    recall  f1-score   support\n",
      "\n",
      "           0       0.85      0.94      0.89      5880\n",
      "           1       0.64      0.38      0.48      1620\n",
      "\n",
      "    accuracy                           0.82      7500\n",
      "   macro avg       0.74      0.66      0.68      7500\n",
      "weighted avg       0.80      0.82      0.80      7500\n",
      "\n"
     ]
    }
   ],
   "source": [
    "print(metrics.classification_report(y_test, y_pred_ann))"
   ]
  },
  {
   "cell_type": "code",
   "execution_count": 44,
   "id": "06850245",
   "metadata": {},
   "outputs": [
    {
     "data": {
      "text/plain": [
       "0.8193333333333334"
      ]
     },
     "execution_count": 44,
     "metadata": {},
     "output_type": "execute_result"
    }
   ],
   "source": [
    "metrics.accuracy_score(y_test, y_pred_ann)"
   ]
  },
  {
   "cell_type": "code",
   "execution_count": null,
   "id": "2e28a3dc",
   "metadata": {},
   "outputs": [],
   "source": []
  },
  {
   "cell_type": "code",
   "execution_count": null,
   "id": "6432b33b",
   "metadata": {},
   "outputs": [],
   "source": []
  },
  {
   "cell_type": "code",
   "execution_count": null,
   "id": "c8a12a9d",
   "metadata": {},
   "outputs": [],
   "source": []
  },
  {
   "cell_type": "code",
   "execution_count": null,
   "id": "16e7c2f3",
   "metadata": {},
   "outputs": [],
   "source": []
  }
 ],
 "metadata": {
  "kernelspec": {
   "display_name": "Python 3 (ipykernel)",
   "language": "python",
   "name": "python3"
  },
  "language_info": {
   "codemirror_mode": {
    "name": "ipython",
    "version": 3
   },
   "file_extension": ".py",
   "mimetype": "text/x-python",
   "name": "python",
   "nbconvert_exporter": "python",
   "pygments_lexer": "ipython3",
   "version": "3.10.4"
  }
 },
 "nbformat": 4,
 "nbformat_minor": 5
}
